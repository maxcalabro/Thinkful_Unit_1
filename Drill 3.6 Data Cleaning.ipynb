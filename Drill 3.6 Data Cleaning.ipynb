{
 "cells": [
  {
   "cell_type": "code",
   "execution_count": 1,
   "metadata": {
    "collapsed": true
   },
   "outputs": [],
   "source": [
    "import numpy as np\n",
    "import pandas as pd\n",
    "import matplotlib.pyplot as plt\n",
    "import seaborn as sns\n",
    "%matplotlib inline\n",
    "sns.set()"
   ]
  },
  {
   "cell_type": "code",
   "execution_count": 2,
   "metadata": {},
   "outputs": [],
   "source": [
    "df = pd.read_csv('DataCleaning.csv', encoding = \"ISO-8859-1\")"
   ]
  },
  {
   "cell_type": "markdown",
   "metadata": {},
   "source": [
    "## Five Most Common Journals and How Many?\n",
    "\n",
    "Well, what do these titles actually look like?"
   ]
  },
  {
   "cell_type": "code",
   "execution_count": 3,
   "metadata": {},
   "outputs": [
    {
     "data": {
      "text/plain": [
       "PLoS One                                           92\n",
       "PLoS ONE                                           62\n",
       "Journal of Biological Chemistry                    48\n",
       "Nucleic Acids Research                             21\n",
       "Proceedings of the National Academy of Sciences    19\n",
       "Human Molecular Genetics                           18\n",
       "PLoS Neglected Tropical Diseases                   18\n",
       "Nature Communications                              17\n",
       "PLoS Pathogens                                     15\n",
       "Neuroimage                                         15\n",
       "PLoS Genetics                                      15\n",
       "NeuroImage                                         14\n",
       "Brain                                              14\n",
       "PLOS ONE                                           14\n",
       "BMC Public Health                                  14\n",
       "Movement Disorders                                 13\n",
       "Journal of Neuroscience                            12\n",
       "Developmental Cell                                 12\n",
       "Biochemical Journal                                12\n",
       "Journal of General Virology                        11\n",
       "Name: Journal title, dtype: int64"
      ]
     },
     "execution_count": 3,
     "metadata": {},
     "output_type": "execute_result"
    }
   ],
   "source": [
    "df['Journal title'].value_counts().head(20)"
   ]
  },
  {
   "cell_type": "code",
   "execution_count": 4,
   "metadata": {},
   "outputs": [
    {
     "data": {
      "text/plain": [
       "984"
      ]
     },
     "execution_count": 4,
     "metadata": {},
     "output_type": "execute_result"
    }
   ],
   "source": [
    "len(df['Journal title'].value_counts())"
   ]
  },
  {
   "cell_type": "markdown",
   "metadata": {},
   "source": [
    "There are a lot of different kinds of mistakes if we look deeper into the data: extra whitespace, extra punctuation, spelling errors, different capitalization, added s's, multiple languages, etc, etc, etc. Spelling mistakes are going to be a real challenge, but let's see what happens if we strip out all whitespace, punctuation, and capitalize everything.\n",
    "\n",
    "#### First: Strip whitespace."
   ]
  },
  {
   "cell_type": "code",
   "execution_count": 5,
   "metadata": {},
   "outputs": [
    {
     "data": {
      "text/plain": [
       "0    Psychological Medicine\n",
       "1         Biomacromolecules\n",
       "2                J Med Chem\n",
       "3                J Med Chem\n",
       "4                J Org Chem\n",
       "Name: Journal title, dtype: object"
      ]
     },
     "execution_count": 5,
     "metadata": {},
     "output_type": "execute_result"
    }
   ],
   "source": [
    "df['Journal title'] = df['Journal title'].str.strip()\n",
    "df['Journal title'].head(5)"
   ]
  },
  {
   "cell_type": "markdown",
   "metadata": {},
   "source": [
    "Did it do anything?"
   ]
  },
  {
   "cell_type": "code",
   "execution_count": 6,
   "metadata": {},
   "outputs": [
    {
     "data": {
      "text/plain": [
       "951"
      ]
     },
     "execution_count": 6,
     "metadata": {},
     "output_type": "execute_result"
    }
   ],
   "source": [
    "len(df['Journal title'].value_counts())"
   ]
  },
  {
   "cell_type": "markdown",
   "metadata": {},
   "source": [
    "984 to 951. Making progress!\n",
    "\n",
    "#### Second: Capitalize. "
   ]
  },
  {
   "cell_type": "code",
   "execution_count": 7,
   "metadata": {},
   "outputs": [
    {
     "data": {
      "text/plain": [
       "0    PSYCHOLOGICAL MEDICINE\n",
       "1         BIOMACROMOLECULES\n",
       "2                J MED CHEM\n",
       "3                J MED CHEM\n",
       "4                J ORG CHEM\n",
       "Name: Journal title, dtype: object"
      ]
     },
     "execution_count": 7,
     "metadata": {},
     "output_type": "execute_result"
    }
   ],
   "source": [
    "df['Journal title'] = df['Journal title'].str.upper()\n",
    "df['Journal title'].head(5)"
   ]
  },
  {
   "cell_type": "code",
   "execution_count": 8,
   "metadata": {},
   "outputs": [
    {
     "data": {
      "text/plain": [
       "894"
      ]
     },
     "execution_count": 8,
     "metadata": {},
     "output_type": "execute_result"
    }
   ],
   "source": [
    "len(df['Journal title'].value_counts())"
   ]
  },
  {
   "cell_type": "markdown",
   "metadata": {},
   "source": [
    "That did pretty well!\n",
    "\n",
    "#### Third: Remove punctuation and spaces."
   ]
  },
  {
   "cell_type": "code",
   "execution_count": 9,
   "metadata": {},
   "outputs": [
    {
     "data": {
      "text/plain": [
       "0    PSYCHOLOGICALMEDICINE\n",
       "1        BIOMACROMOLECULES\n",
       "2                 JMEDCHEM\n",
       "3                 JMEDCHEM\n",
       "4                 JORGCHEM\n",
       "Name: Journal title, dtype: object"
      ]
     },
     "execution_count": 9,
     "metadata": {},
     "output_type": "execute_result"
    }
   ],
   "source": [
    "df['Journal title'] = df['Journal title'].apply(lambda x: ''.join(list(filter(str.isalnum, str(x)))))\n",
    "df['Journal title'].head(5)"
   ]
  },
  {
   "cell_type": "code",
   "execution_count": 10,
   "metadata": {},
   "outputs": [
    {
     "data": {
      "text/plain": [
       "886"
      ]
     },
     "execution_count": 10,
     "metadata": {},
     "output_type": "execute_result"
    }
   ],
   "source": [
    "len(df['Journal title'].value_counts())"
   ]
  },
  {
   "cell_type": "markdown",
   "metadata": {},
   "source": [
    "Barely better. So far we've reduced about 100 duplicate journal titles. Let's see how it looks."
   ]
  },
  {
   "cell_type": "code",
   "execution_count": 11,
   "metadata": {},
   "outputs": [
    {
     "data": {
      "text/plain": [
       "PLOSONE                                      200\n",
       "JOURNALOFBIOLOGICALCHEMISTRY                  53\n",
       "NEUROIMAGE                                    29\n",
       "NUCLEICACIDSRESEARCH                          26\n",
       "PLOSPATHOGENS                                 24\n",
       "PLOSGENETICS                                  24\n",
       "PROCEEDINGSOFTHENATIONALACADEMYOFSCIENCES     22\n",
       "PLOSNEGLECTEDTROPICALDISEASES                 20\n",
       "NATURECOMMUNICATIONS                          19\n",
       "HUMANMOLECULARGENETICS                        19\n",
       "Name: Journal title, dtype: int64"
      ]
     },
     "execution_count": 11,
     "metadata": {},
     "output_type": "execute_result"
    }
   ],
   "source": [
    "df['Journal title'].value_counts().head(10)"
   ]
  },
  {
   "cell_type": "markdown",
   "metadata": {},
   "source": [
    "It's a little harder for us to read the journal titles, but a lot easier for the computer to tell which ones are the same. Most of what's left are spelling mistakes from the original data entry, which I'm not sure how to deal with aside from going through by hand.\n",
    "\n",
    "The five most common journals are PLoS One, Journal of Biological Chemistry, NeuroImage, Nucleic Acids Research, and PLoS Pathogens, with values shown above.\n",
    "\n",
    "## Next step: Mean, median, and std of the open-access cost per article for each journal"
   ]
  },
  {
   "cell_type": "markdown",
   "metadata": {},
   "source": [
    "To get cost per article, we'll have to turn the \"Cost\" column into a number, then do math for each journal. I'll create a second dataframe to avoid issues with counting journals multiple times. Then it should be relatively simple to do statistics on it."
   ]
  },
  {
   "cell_type": "code",
   "execution_count": 12,
   "metadata": {},
   "outputs": [
    {
     "data": {
      "text/html": [
       "<div>\n",
       "<style>\n",
       "    .dataframe thead tr:only-child th {\n",
       "        text-align: right;\n",
       "    }\n",
       "\n",
       "    .dataframe thead th {\n",
       "        text-align: left;\n",
       "    }\n",
       "\n",
       "    .dataframe tbody tr th {\n",
       "        vertical-align: top;\n",
       "    }\n",
       "</style>\n",
       "<table border=\"1\" class=\"dataframe\">\n",
       "  <thead>\n",
       "    <tr style=\"text-align: right;\">\n",
       "      <th></th>\n",
       "      <th>Count</th>\n",
       "      <th>Mean</th>\n",
       "      <th>Median</th>\n",
       "      <th>Std</th>\n",
       "    </tr>\n",
       "  </thead>\n",
       "  <tbody>\n",
       "    <tr>\n",
       "      <th>PLOSONE</th>\n",
       "      <td>200</td>\n",
       "      <td>None</td>\n",
       "      <td>None</td>\n",
       "      <td>None</td>\n",
       "    </tr>\n",
       "    <tr>\n",
       "      <th>JOURNALOFBIOLOGICALCHEMISTRY</th>\n",
       "      <td>53</td>\n",
       "      <td>None</td>\n",
       "      <td>None</td>\n",
       "      <td>None</td>\n",
       "    </tr>\n",
       "    <tr>\n",
       "      <th>NEUROIMAGE</th>\n",
       "      <td>29</td>\n",
       "      <td>None</td>\n",
       "      <td>None</td>\n",
       "      <td>None</td>\n",
       "    </tr>\n",
       "    <tr>\n",
       "      <th>NUCLEICACIDSRESEARCH</th>\n",
       "      <td>26</td>\n",
       "      <td>None</td>\n",
       "      <td>None</td>\n",
       "      <td>None</td>\n",
       "    </tr>\n",
       "    <tr>\n",
       "      <th>PLOSPATHOGENS</th>\n",
       "      <td>24</td>\n",
       "      <td>None</td>\n",
       "      <td>None</td>\n",
       "      <td>None</td>\n",
       "    </tr>\n",
       "  </tbody>\n",
       "</table>\n",
       "</div>"
      ],
      "text/plain": [
       "                              Count  Mean Median   Std\n",
       "PLOSONE                         200  None   None  None\n",
       "JOURNALOFBIOLOGICALCHEMISTRY     53  None   None  None\n",
       "NEUROIMAGE                       29  None   None  None\n",
       "NUCLEICACIDSRESEARCH             26  None   None  None\n",
       "PLOSPATHOGENS                    24  None   None  None"
      ]
     },
     "execution_count": 12,
     "metadata": {},
     "output_type": "execute_result"
    }
   ],
   "source": [
    "df_price = df['Journal title'].value_counts().to_frame()\n",
    "df_price.rename(columns={'Journal title': 'Count'}, inplace=True)\n",
    "df_price['Mean'] = None\n",
    "df_price['Median'] = None\n",
    "df_price['Std'] = None\n",
    "df_price.head(5)"
   ]
  },
  {
   "cell_type": "markdown",
   "metadata": {},
   "source": [
    "Turn that 'COST....' column into something we can work with by removing the pound sign and decimal point."
   ]
  },
  {
   "cell_type": "code",
   "execution_count": 13,
   "metadata": {},
   "outputs": [],
   "source": [
    "df.rename(columns={'COST (£) charged to Wellcome (inc VAT when charged)': 'Cost in Cents'}, inplace=True)"
   ]
  },
  {
   "cell_type": "code",
   "execution_count": 14,
   "metadata": {},
   "outputs": [],
   "source": [
    "df['Cost in Cents'] = df['Cost in Cents'].apply(lambda x: int(''.join(list(filter(str.isdigit, str(x))))))"
   ]
  },
  {
   "cell_type": "code",
   "execution_count": 15,
   "metadata": {},
   "outputs": [
    {
     "data": {
      "text/html": [
       "<div>\n",
       "<style>\n",
       "    .dataframe thead tr:only-child th {\n",
       "        text-align: right;\n",
       "    }\n",
       "\n",
       "    .dataframe thead th {\n",
       "        text-align: left;\n",
       "    }\n",
       "\n",
       "    .dataframe tbody tr th {\n",
       "        vertical-align: top;\n",
       "    }\n",
       "</style>\n",
       "<table border=\"1\" class=\"dataframe\">\n",
       "  <thead>\n",
       "    <tr style=\"text-align: right;\">\n",
       "      <th></th>\n",
       "      <th>PMID/PMCID</th>\n",
       "      <th>Publisher</th>\n",
       "      <th>Journal title</th>\n",
       "      <th>Article title</th>\n",
       "      <th>Cost in Cents</th>\n",
       "    </tr>\n",
       "  </thead>\n",
       "  <tbody>\n",
       "    <tr>\n",
       "      <th>149</th>\n",
       "      <td>PMC3234811</td>\n",
       "      <td>ASBMB</td>\n",
       "      <td>JOURNALOFBIOLOGICALCHEMISTRY</td>\n",
       "      <td>Picomolar nitric oxide signals from central ne...</td>\n",
       "      <td>99999900</td>\n",
       "    </tr>\n",
       "    <tr>\n",
       "      <th>227</th>\n",
       "      <td>3708772</td>\n",
       "      <td>BioMed Central</td>\n",
       "      <td>BMCGENOMICS</td>\n",
       "      <td>Phenotypic, genomic, and transcriptional chara...</td>\n",
       "      <td>99999900</td>\n",
       "    </tr>\n",
       "    <tr>\n",
       "      <th>277</th>\n",
       "      <td>PMC3668259</td>\n",
       "      <td>BMC</td>\n",
       "      <td>TRIALS</td>\n",
       "      <td>Community resource centres to improve the heal...</td>\n",
       "      <td>99999900</td>\n",
       "    </tr>\n",
       "    <tr>\n",
       "      <th>358</th>\n",
       "      <td>PMC3219211</td>\n",
       "      <td>Cambridge University Press</td>\n",
       "      <td>EXPERTREVIEWSINMOLECULARMEDICINE</td>\n",
       "      <td>Pharmacological targets in the ubiquitin syste...</td>\n",
       "      <td>99999900</td>\n",
       "    </tr>\n",
       "    <tr>\n",
       "      <th>404</th>\n",
       "      <td>PMC3533396</td>\n",
       "      <td>Company of Biologists</td>\n",
       "      <td>JOURNALOFCELLSCIENCE</td>\n",
       "      <td>PKA isoforms coordinate mRNA fate during nutri...</td>\n",
       "      <td>99999900</td>\n",
       "    </tr>\n",
       "  </tbody>\n",
       "</table>\n",
       "</div>"
      ],
      "text/plain": [
       "      PMID/PMCID                   Publisher  \\\n",
       "149   PMC3234811                       ASBMB   \n",
       "227      3708772             BioMed Central    \n",
       "277  PMC3668259                          BMC   \n",
       "358   PMC3219211  Cambridge University Press   \n",
       "404   PMC3533396       Company of Biologists   \n",
       "\n",
       "                        Journal title  \\\n",
       "149      JOURNALOFBIOLOGICALCHEMISTRY   \n",
       "227                       BMCGENOMICS   \n",
       "277                            TRIALS   \n",
       "358  EXPERTREVIEWSINMOLECULARMEDICINE   \n",
       "404              JOURNALOFCELLSCIENCE   \n",
       "\n",
       "                                         Article title  Cost in Cents  \n",
       "149  Picomolar nitric oxide signals from central ne...       99999900  \n",
       "227  Phenotypic, genomic, and transcriptional chara...       99999900  \n",
       "277  Community resource centres to improve the heal...       99999900  \n",
       "358  Pharmacological targets in the ubiquitin syste...       99999900  \n",
       "404  PKA isoforms coordinate mRNA fate during nutri...       99999900  "
      ]
     },
     "execution_count": 15,
     "metadata": {},
     "output_type": "execute_result"
    }
   ],
   "source": [
    "df[df['Cost in Cents']>90000000].head(5)"
   ]
  },
  {
   "cell_type": "markdown",
   "metadata": {},
   "source": [
    "There are a bunch of \"99999900\" values for price -- these shouldn't be included, or should be reduced to the mean cost of each journal. I'll just mark them as None to remove them from the analysis."
   ]
  },
  {
   "cell_type": "code",
   "execution_count": 16,
   "metadata": {
    "collapsed": true
   },
   "outputs": [],
   "source": [
    "df[df['Cost in Cents']>90000000] = None"
   ]
  },
  {
   "cell_type": "code",
   "execution_count": 17,
   "metadata": {},
   "outputs": [],
   "source": [
    "for title in df_price.index:\n",
    "    df_price.loc[title, 'Mean'] = df[df['Journal title']==title]['Cost in Cents'].mean()\n",
    "    df_price.loc[title, 'Median'] = df[df['Journal title']==title]['Cost in Cents'].median()\n",
    "    df_price.loc[title, 'Std'] = df[df['Journal title']==title]['Cost in Cents'].std()"
   ]
  },
  {
   "cell_type": "code",
   "execution_count": 18,
   "metadata": {},
   "outputs": [
    {
     "data": {
      "text/html": [
       "<div>\n",
       "<style>\n",
       "    .dataframe thead tr:only-child th {\n",
       "        text-align: right;\n",
       "    }\n",
       "\n",
       "    .dataframe thead th {\n",
       "        text-align: left;\n",
       "    }\n",
       "\n",
       "    .dataframe tbody tr th {\n",
       "        vertical-align: top;\n",
       "    }\n",
       "</style>\n",
       "<table border=\"1\" class=\"dataframe\">\n",
       "  <thead>\n",
       "    <tr style=\"text-align: right;\">\n",
       "      <th></th>\n",
       "      <th>Count</th>\n",
       "      <th>Mean</th>\n",
       "      <th>Median</th>\n",
       "      <th>Std</th>\n",
       "    </tr>\n",
       "  </thead>\n",
       "  <tbody>\n",
       "    <tr>\n",
       "      <th>PLOSONE</th>\n",
       "      <td>200</td>\n",
       "      <td>192999</td>\n",
       "      <td>89407</td>\n",
       "      <td>1.38371e+06</td>\n",
       "    </tr>\n",
       "    <tr>\n",
       "      <th>JOURNALOFBIOLOGICALCHEMISTRY</th>\n",
       "      <td>53</td>\n",
       "      <td>142359</td>\n",
       "      <td>130114</td>\n",
       "      <td>41195.4</td>\n",
       "    </tr>\n",
       "    <tr>\n",
       "      <th>NEUROIMAGE</th>\n",
       "      <td>29</td>\n",
       "      <td>221517</td>\n",
       "      <td>232643</td>\n",
       "      <td>26665.4</td>\n",
       "    </tr>\n",
       "    <tr>\n",
       "      <th>NUCLEICACIDSRESEARCH</th>\n",
       "      <td>26</td>\n",
       "      <td>114900</td>\n",
       "      <td>85200</td>\n",
       "      <td>44294</td>\n",
       "    </tr>\n",
       "    <tr>\n",
       "      <th>PLOSPATHOGENS</th>\n",
       "      <td>24</td>\n",
       "      <td>144833</td>\n",
       "      <td>160025</td>\n",
       "      <td>47019.6</td>\n",
       "    </tr>\n",
       "  </tbody>\n",
       "</table>\n",
       "</div>"
      ],
      "text/plain": [
       "                              Count    Mean  Median          Std\n",
       "PLOSONE                         200  192999   89407  1.38371e+06\n",
       "JOURNALOFBIOLOGICALCHEMISTRY     53  142359  130114      41195.4\n",
       "NEUROIMAGE                       29  221517  232643      26665.4\n",
       "NUCLEICACIDSRESEARCH             26  114900   85200        44294\n",
       "PLOSPATHOGENS                    24  144833  160025      47019.6"
      ]
     },
     "execution_count": 18,
     "metadata": {},
     "output_type": "execute_result"
    }
   ],
   "source": [
    "df_price.head(5)"
   ]
  },
  {
   "cell_type": "markdown",
   "metadata": {},
   "source": [
    "Got it! df_price stores all the Mean, Median, and Std information for the price of each journal. More information can be added by including it in that for loop.\n",
    "\n",
    "## Challenge: Article Price by Subject area?\n",
    "\n",
    "First off, what are the subject areas in the data set, and how do we know which journals belong to which area? I don't know a lot about how they distinguish subject area, so I'll choose somewhat arbitrarily:\n",
    "\n",
    "Journal titles including the words:\n",
    "NEUR, BIO, CHEM, PHYS, NATUR, MOLECUL, HUMAN, MED, CELL, IMMUN, GEN.\n",
    "\n",
    "This is an incomplete list, I'm sure, and will leave out a lot of the journals. It'll also count some of them twice, which is fine since they may span multiple disciplines."
   ]
  },
  {
   "cell_type": "code",
   "execution_count": 19,
   "metadata": {},
   "outputs": [],
   "source": [
    "df_subject = pd.DataFrame(index=['NEUR', 'BIO', 'CHEM', 'PHYS', 'NATUR', 'MOLECUL', 'HUMAN', 'MED', 'CELL', 'IMMUN', 'GEN'])"
   ]
  },
  {
   "cell_type": "code",
   "execution_count": 20,
   "metadata": {},
   "outputs": [
    {
     "data": {
      "text/html": [
       "<div>\n",
       "<style>\n",
       "    .dataframe thead tr:only-child th {\n",
       "        text-align: right;\n",
       "    }\n",
       "\n",
       "    .dataframe thead th {\n",
       "        text-align: left;\n",
       "    }\n",
       "\n",
       "    .dataframe tbody tr th {\n",
       "        vertical-align: top;\n",
       "    }\n",
       "</style>\n",
       "<table border=\"1\" class=\"dataframe\">\n",
       "  <thead>\n",
       "    <tr style=\"text-align: right;\">\n",
       "      <th></th>\n",
       "      <th>Count</th>\n",
       "      <th>Mean Price</th>\n",
       "    </tr>\n",
       "  </thead>\n",
       "  <tbody>\n",
       "    <tr>\n",
       "      <th>NEUR</th>\n",
       "      <td>None</td>\n",
       "      <td>None</td>\n",
       "    </tr>\n",
       "    <tr>\n",
       "      <th>BIO</th>\n",
       "      <td>None</td>\n",
       "      <td>None</td>\n",
       "    </tr>\n",
       "    <tr>\n",
       "      <th>CHEM</th>\n",
       "      <td>None</td>\n",
       "      <td>None</td>\n",
       "    </tr>\n",
       "    <tr>\n",
       "      <th>PHYS</th>\n",
       "      <td>None</td>\n",
       "      <td>None</td>\n",
       "    </tr>\n",
       "    <tr>\n",
       "      <th>NATUR</th>\n",
       "      <td>None</td>\n",
       "      <td>None</td>\n",
       "    </tr>\n",
       "  </tbody>\n",
       "</table>\n",
       "</div>"
      ],
      "text/plain": [
       "      Count Mean Price\n",
       "NEUR   None       None\n",
       "BIO    None       None\n",
       "CHEM   None       None\n",
       "PHYS   None       None\n",
       "NATUR  None       None"
      ]
     },
     "execution_count": 20,
     "metadata": {},
     "output_type": "execute_result"
    }
   ],
   "source": [
    "df_subject['Count'] = None\n",
    "df_subject['Mean Price'] = None\n",
    "df_subject.head(5)"
   ]
  },
  {
   "cell_type": "code",
   "execution_count": 21,
   "metadata": {},
   "outputs": [],
   "source": [
    "for subj in df_subject.index:\n",
    "    df_subject.loc[subj, 'Count'] = df[df['Journal title'].isin(list(filter(lambda x: subj in str(x), df['Journal title'])))]['Cost in Cents'].count()\n",
    "    df_subject.loc[subj, 'Mean Price'] = df[df['Journal title'].isin(list(filter(lambda x: subj in str(x), df['Journal title'])))]['Cost in Cents'].mean()"
   ]
  },
  {
   "cell_type": "code",
   "execution_count": 22,
   "metadata": {},
   "outputs": [
    {
     "data": {
      "text/html": [
       "<div>\n",
       "<style>\n",
       "    .dataframe thead tr:only-child th {\n",
       "        text-align: right;\n",
       "    }\n",
       "\n",
       "    .dataframe thead th {\n",
       "        text-align: left;\n",
       "    }\n",
       "\n",
       "    .dataframe tbody tr th {\n",
       "        vertical-align: top;\n",
       "    }\n",
       "</style>\n",
       "<table border=\"1\" class=\"dataframe\">\n",
       "  <thead>\n",
       "    <tr style=\"text-align: right;\">\n",
       "      <th></th>\n",
       "      <th>Count</th>\n",
       "      <th>Mean Price</th>\n",
       "    </tr>\n",
       "  </thead>\n",
       "  <tbody>\n",
       "    <tr>\n",
       "      <th>NEUR</th>\n",
       "      <td>192</td>\n",
       "      <td>204948</td>\n",
       "    </tr>\n",
       "    <tr>\n",
       "      <th>BIO</th>\n",
       "      <td>329</td>\n",
       "      <td>178561</td>\n",
       "    </tr>\n",
       "    <tr>\n",
       "      <th>CHEM</th>\n",
       "      <td>174</td>\n",
       "      <td>161889</td>\n",
       "    </tr>\n",
       "    <tr>\n",
       "      <th>PHYS</th>\n",
       "      <td>35</td>\n",
       "      <td>160068</td>\n",
       "    </tr>\n",
       "    <tr>\n",
       "      <th>NATUR</th>\n",
       "      <td>20</td>\n",
       "      <td>293776</td>\n",
       "    </tr>\n",
       "    <tr>\n",
       "      <th>MOLECUL</th>\n",
       "      <td>90</td>\n",
       "      <td>206824</td>\n",
       "    </tr>\n",
       "    <tr>\n",
       "      <th>HUMAN</th>\n",
       "      <td>51</td>\n",
       "      <td>201758</td>\n",
       "    </tr>\n",
       "    <tr>\n",
       "      <th>MED</th>\n",
       "      <td>135</td>\n",
       "      <td>171850</td>\n",
       "    </tr>\n",
       "    <tr>\n",
       "      <th>CELL</th>\n",
       "      <td>103</td>\n",
       "      <td>247977</td>\n",
       "    </tr>\n",
       "    <tr>\n",
       "      <th>IMMUN</th>\n",
       "      <td>51</td>\n",
       "      <td>213125</td>\n",
       "    </tr>\n",
       "    <tr>\n",
       "      <th>GEN</th>\n",
       "      <td>156</td>\n",
       "      <td>182652</td>\n",
       "    </tr>\n",
       "  </tbody>\n",
       "</table>\n",
       "</div>"
      ],
      "text/plain": [
       "        Count Mean Price\n",
       "NEUR      192     204948\n",
       "BIO       329     178561\n",
       "CHEM      174     161889\n",
       "PHYS       35     160068\n",
       "NATUR      20     293776\n",
       "MOLECUL    90     206824\n",
       "HUMAN      51     201758\n",
       "MED       135     171850\n",
       "CELL      103     247977\n",
       "IMMUN      51     213125\n",
       "GEN       156     182652"
      ]
     },
     "execution_count": 22,
     "metadata": {},
     "output_type": "execute_result"
    }
   ],
   "source": [
    "df_subject"
   ]
  },
  {
   "cell_type": "markdown",
   "metadata": {},
   "source": [
    "Nice! Again, you can add other stats by updating the for loop above, or add other categories by redefining the DataFrame.\n",
    "\n",
    "That's all folks!"
   ]
  },
  {
   "cell_type": "code",
   "execution_count": null,
   "metadata": {
    "collapsed": true
   },
   "outputs": [],
   "source": []
  }
 ],
 "metadata": {
  "kernelspec": {
   "display_name": "Python 3",
   "language": "python",
   "name": "python3"
  },
  "language_info": {
   "codemirror_mode": {
    "name": "ipython",
    "version": 3
   },
   "file_extension": ".py",
   "mimetype": "text/x-python",
   "name": "python",
   "nbconvert_exporter": "python",
   "pygments_lexer": "ipython3",
   "version": "3.6.2"
  }
 },
 "nbformat": 4,
 "nbformat_minor": 2
}
